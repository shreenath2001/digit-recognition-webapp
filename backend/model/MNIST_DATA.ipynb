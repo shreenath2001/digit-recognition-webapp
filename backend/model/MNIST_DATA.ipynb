{
  "nbformat": 4,
  "nbformat_minor": 0,
  "metadata": {
    "colab": {
      "name": "MNIST_DATA.ipynb",
      "provenance": [],
      "collapsed_sections": []
    },
    "kernelspec": {
      "name": "python3",
      "display_name": "Python 3"
    }
  },
  "cells": [
    {
      "cell_type": "code",
      "metadata": {
        "id": "NrAQvAag_gz4",
        "outputId": "018ee2ed-975c-4804-d06c-46d96b2429c5",
        "colab": {
          "base_uri": "https://localhost:8080/",
          "height": 34
        }
      },
      "source": [
        "import tensorflow as tf\n",
        "print(tf.__version__)"
      ],
      "execution_count": 1,
      "outputs": [
        {
          "output_type": "stream",
          "text": [
            "2.3.0\n"
          ],
          "name": "stdout"
        }
      ]
    },
    {
      "cell_type": "code",
      "metadata": {
        "id": "tQqL4te2_nAa"
      },
      "source": [
        "from tensorflow import keras\n",
        "(x_train, y_train), (x_test, y_test) = keras.datasets.mnist.load_data(path=\"mnist.npz\")"
      ],
      "execution_count": 2,
      "outputs": []
    },
    {
      "cell_type": "code",
      "metadata": {
        "id": "pt32Kp4c_2dM",
        "outputId": "55875bd0-2449-42a5-d719-6bc1734cd67b",
        "colab": {
          "base_uri": "https://localhost:8080/",
          "height": 84
        }
      },
      "source": [
        "print('x_train shape  : ', x_train.shape)\n",
        "print('x_test shape   : ', x_test.shape)\n",
        "print('y_train shape  : ', y_train.shape)\n",
        "print('y_test shape   : ', y_test.shape)"
      ],
      "execution_count": 3,
      "outputs": [
        {
          "output_type": "stream",
          "text": [
            "x_train shape  :  (60000, 28, 28)\n",
            "x_test shape   :  (10000, 28, 28)\n",
            "y_train shape  :  (60000,)\n",
            "y_test shape   :  (10000,)\n"
          ],
          "name": "stdout"
        }
      ]
    },
    {
      "cell_type": "code",
      "metadata": {
        "id": "SGjiI2YyCefY",
        "outputId": "4cb6b8b3-e9ca-4ae9-d7ee-dbc6057ca6d7",
        "colab": {
          "base_uri": "https://localhost:8080/",
          "height": 701
        }
      },
      "source": [
        "import numpy as np\n",
        "import matplotlib.pyplot as plt\n",
        "plt.figure(figsize=(12, 12))\n",
        "for i in range(9):\n",
        "\tplt.subplot(330 + 1 +i)\n",
        "\tplt.imshow(x_train[i], cmap='gray')\n",
        "plt.show()"
      ],
      "execution_count": 4,
      "outputs": [
        {
          "output_type": "display_data",
          "data": {
            "image/png": "[encoded data removed]",
            "text/plain": [
              "<Figure size 864x864 with 9 Axes>"
            ]
          },
          "metadata": {
            "tags": [],
            "needs_background": "light"
          }
        }
      ]
    },
    {
      "cell_type": "code",
      "metadata": {
        "id": "oqBjYNOoIP3_"
      },
      "source": [
        "x_train = x_train.reshape(x_train.shape[0], 28, 28, 1)\n",
        "x_test = x_test.reshape(x_test.shape[0], 28, 28, 1)"
      ],
      "execution_count": 5,
      "outputs": []
    },
    {
      "cell_type": "code",
      "metadata": {
        "id": "Ck6OxAQyeOZJ",
        "outputId": "8b5834d1-9b2b-4bc9-e8b0-3a9e2858e743",
        "colab": {
          "base_uri": "https://localhost:8080/",
          "height": 50
        }
      },
      "source": [
        "print('x_train shape  : ', x_train.shape)\n",
        "print('x_test shape   : ', x_test.shape)"
      ],
      "execution_count": 6,
      "outputs": [
        {
          "output_type": "stream",
          "text": [
            "x_train shape  :  (60000, 28, 28, 1)\n",
            "x_test shape   :  (10000, 28, 28, 1)\n"
          ],
          "name": "stdout"
        }
      ]
    },
    {
      "cell_type": "code",
      "metadata": {
        "id": "IqoRpldoeQh6"
      },
      "source": [
        "x_train = x_train.astype('float32')\n",
        "x_test = x_test.astype('float32')\n",
        "x_train = x_train/255.\n",
        "x_test = x_test/255."
      ],
      "execution_count": 7,
      "outputs": []
    },
    {
      "cell_type": "code",
      "metadata": {
        "id": "uxJ-hQGvf42X",
        "outputId": "ad9e3c17-71fc-41f7-906b-408b39a0047b",
        "colab": {
          "base_uri": "https://localhost:8080/",
          "height": 34
        }
      },
      "source": [
        "classes = len(np.unique(y_train))\n",
        "classes"
      ],
      "execution_count": 8,
      "outputs": [
        {
          "output_type": "execute_result",
          "data": {
            "text/plain": [
              "10"
            ]
          },
          "metadata": {
            "tags": []
          },
          "execution_count": 8
        }
      ]
    },
    {
      "cell_type": "code",
      "metadata": {
        "id": "DJQW_paAfQyo"
      },
      "source": [
        "from keras.utils import to_categorical\n",
        "y_train = to_categorical(y_train, num_classes = classes)\n",
        "y_test = to_categorical(y_test, num_classes = classes)"
      ],
      "execution_count": 9,
      "outputs": []
    },
    {
      "cell_type": "code",
      "metadata": {
        "id": "IzH8KkGug4Hw",
        "outputId": "f655f05a-90cf-4bfa-a9e3-ff13a0d978af",
        "colab": {
          "base_uri": "https://localhost:8080/",
          "height": 386
        }
      },
      "source": [
        "from tensorflow.keras import layers\n",
        "model = keras.Sequential()\n",
        "model.add(keras.Input(shape=(28, 28, 1)))\n",
        "model.add(layers.Conv2D(32, kernel_size=(3, 3), activation=\"relu\"))\n",
        "model.add(layers.MaxPooling2D(pool_size=(2, 2)))\n",
        "model.add(layers.Conv2D(64, kernel_size=(3, 3), activation=\"relu\"))\n",
        "model.add(layers.MaxPooling2D(pool_size=(2, 2)))\n",
        "model.add(layers.Flatten())\n",
        "model.add(layers.Dropout(0.5))\n",
        "model.add(layers.Dense(classes, activation=\"softmax\"))\n",
        "\n",
        "model.summary()"
      ],
      "execution_count": 10,
      "outputs": [
        {
          "output_type": "stream",
          "text": [
            "Model: \"sequential\"\n",
            "_________________________________________________________________\n",
            "Layer (type)                 Output Shape              Param #   \n",
            "=================================================================\n",
            "conv2d (Conv2D)              (None, 26, 26, 32)        320       \n",
            "_________________________________________________________________\n",
            "max_pooling2d (MaxPooling2D) (None, 13, 13, 32)        0         \n",
            "_________________________________________________________________\n",
            "conv2d_1 (Conv2D)            (None, 11, 11, 64)        18496     \n",
            "_________________________________________________________________\n",
            "max_pooling2d_1 (MaxPooling2 (None, 5, 5, 64)          0         \n",
            "_________________________________________________________________\n",
            "flatten (Flatten)            (None, 1600)              0         \n",
            "_________________________________________________________________\n",
            "dropout (Dropout)            (None, 1600)              0         \n",
            "_________________________________________________________________\n",
            "dense (Dense)                (None, 10)                16010     \n",
            "=================================================================\n",
            "Total params: 34,826\n",
            "Trainable params: 34,826\n",
            "Non-trainable params: 0\n",
            "_________________________________________________________________\n"
          ],
          "name": "stdout"
        }
      ]
    },
    {
      "cell_type": "code",
      "metadata": {
        "id": "m2r24vw0nYbT"
      },
      "source": [
        "my_callbacks = [\n",
        "    tf.keras.callbacks.EarlyStopping(patience=2, monitor=\"val_accuracy\",),\n",
        "]"
      ],
      "execution_count": 11,
      "outputs": []
    },
    {
      "cell_type": "code",
      "metadata": {
        "id": "koPj4p9LoW63",
        "outputId": "551fae0a-dc02-4e76-a50a-06eded3a5a59",
        "colab": {
          "base_uri": "https://localhost:8080/",
          "height": 487
        }
      },
      "source": [
        "batch_size = 128\n",
        "epochs = 15\n",
        "model.compile(loss=\"categorical_crossentropy\", optimizer=\"adam\", metrics=[\"accuracy\"])\n",
        "r = model.fit(x_train, y_train, batch_size=batch_size, epochs=epochs, validation_data=(x_test, y_test), callbacks=my_callbacks)"
      ],
      "execution_count": 12,
      "outputs": [
        {
          "output_type": "stream",
          "text": [
            "Epoch 1/15\n",
            "469/469 [==============================] - 49s 103ms/step - loss: 0.3575 - accuracy: 0.8910 - val_loss: 0.0942 - val_accuracy: 0.9710\n",
            "Epoch 2/15\n",
            "469/469 [==============================] - 44s 93ms/step - loss: 0.1167 - accuracy: 0.9639 - val_loss: 0.0639 - val_accuracy: 0.9803\n",
            "Epoch 3/15\n",
            "469/469 [==============================] - 44s 94ms/step - loss: 0.0851 - accuracy: 0.9743 - val_loss: 0.0446 - val_accuracy: 0.9869\n",
            "Epoch 4/15\n",
            "469/469 [==============================] - 45s 95ms/step - loss: 0.0736 - accuracy: 0.9776 - val_loss: 0.0438 - val_accuracy: 0.9871\n",
            "Epoch 5/15\n",
            "469/469 [==============================] - 44s 94ms/step - loss: 0.0621 - accuracy: 0.9803 - val_loss: 0.0377 - val_accuracy: 0.9873\n",
            "Epoch 6/15\n",
            "469/469 [==============================] - 44s 94ms/step - loss: 0.0552 - accuracy: 0.9833 - val_loss: 0.0324 - val_accuracy: 0.9886\n",
            "Epoch 7/15\n",
            "469/469 [==============================] - 46s 98ms/step - loss: 0.0525 - accuracy: 0.9836 - val_loss: 0.0317 - val_accuracy: 0.9890\n",
            "Epoch 8/15\n",
            "469/469 [==============================] - 44s 95ms/step - loss: 0.0476 - accuracy: 0.9850 - val_loss: 0.0285 - val_accuracy: 0.9893\n",
            "Epoch 9/15\n",
            "469/469 [==============================] - 44s 95ms/step - loss: 0.0459 - accuracy: 0.9860 - val_loss: 0.0290 - val_accuracy: 0.9895\n",
            "Epoch 10/15\n",
            "469/469 [==============================] - 45s 96ms/step - loss: 0.0420 - accuracy: 0.9868 - val_loss: 0.0267 - val_accuracy: 0.9908\n",
            "Epoch 11/15\n",
            "469/469 [==============================] - 46s 98ms/step - loss: 0.0395 - accuracy: 0.9879 - val_loss: 0.0273 - val_accuracy: 0.9908\n",
            "Epoch 12/15\n",
            "469/469 [==============================] - 45s 96ms/step - loss: 0.0384 - accuracy: 0.9878 - val_loss: 0.0261 - val_accuracy: 0.9909\n",
            "Epoch 13/15\n",
            "469/469 [==============================] - 45s 95ms/step - loss: 0.0359 - accuracy: 0.9887 - val_loss: 0.0261 - val_accuracy: 0.9906\n",
            "Epoch 14/15\n",
            "469/469 [==============================] - 48s 103ms/step - loss: 0.0348 - accuracy: 0.9886 - val_loss: 0.0266 - val_accuracy: 0.9904\n"
          ],
          "name": "stdout"
        }
      ]
    },
    {
      "cell_type": "code",
      "metadata": {
        "id": "CvvHrcQJugvq",
        "outputId": "aae9be1e-8dd3-4e9a-ed71-bbe078376e07",
        "colab": {
          "base_uri": "https://localhost:8080/",
          "height": 578
        }
      },
      "source": [
        "acc = r.history['accuracy']\n",
        "val_acc = r.history['val_accuracy']\n",
        "loss = r.history['loss']\n",
        "val_loss = r.history['val_loss']\n",
        "\n",
        "epochs = range(len(acc))\n",
        "\n",
        "plt.plot(epochs, acc, 'r', label='Training accuracy')\n",
        "plt.plot(epochs, val_acc, 'b', label='Validation accuracy')\n",
        "plt.title('Training and validation accuracy')\n",
        "plt.legend()\n",
        "plt.figure()\n",
        "plt.show()\n",
        "\n",
        "plt.plot(epochs, loss, 'r', label='Training loss')\n",
        "plt.plot(epochs, val_loss, 'b', label='Validation loss')\n",
        "plt.title('Training and validation loss')\n",
        "plt.legend()\n",
        "plt.figure()\n",
        "plt.show()"
      ],
      "execution_count": 13,
      "outputs": [
        {
          "output_type": "display_data",
          "data": {
            "image/png": "[encoded data removed]",
            "text/plain": [
              "<Figure size 432x288 with 1 Axes>"
            ]
          },
          "metadata": {
            "tags": [],
            "needs_background": "light"
          }
        },
        {
          "output_type": "display_data",
          "data": {
            "text/plain": [
              "<Figure size 432x288 with 0 Axes>"
            ]
          },
          "metadata": {
            "tags": []
          }
        },
        {
          "output_type": "display_data",
          "data": {
            "image/png": "[encoded data removed]",
            "text/plain": [
              "<Figure size 432x288 with 1 Axes>"
            ]
          },
          "metadata": {
            "tags": [],
            "needs_background": "light"
          }
        },
        {
          "output_type": "display_data",
          "data": {
            "text/plain": [
              "<Figure size 432x288 with 0 Axes>"
            ]
          },
          "metadata": {
            "tags": []
          }
        }
      ]
    },
    {
      "cell_type": "code",
      "metadata": {
        "id": "2URRf0H3qmwV",
        "outputId": "385e7aba-78ca-451c-f61c-316103ce4b09",
        "colab": {
          "base_uri": "https://localhost:8080/",
          "height": 50
        }
      },
      "source": [
        "score = model.evaluate(x_test, y_test, verbose=0)\n",
        "print(\"Test loss:\", score[0])\n",
        "print(\"Test accuracy:\", score[1])"
      ],
      "execution_count": 14,
      "outputs": [
        {
          "output_type": "stream",
          "text": [
            "Test loss: 0.026615548878908157\n",
            "Test accuracy: 0.9904000163078308\n"
          ],
          "name": "stdout"
        }
      ]
    },
    {
      "cell_type": "code",
      "metadata": {
        "id": "GpN91GcZw1F8"
      },
      "source": [
        "model.save(\"model.h5\")"
      ],
      "execution_count": 17,
      "outputs": []
    },
    {
      "cell_type": "code",
      "metadata": {
        "id": "9Z9mzGt_0YP0"
      },
      "source": [
        "#from keras.models import load_model\n",
        "#model = load_model('model.h5')"
      ],
      "execution_count": null,
      "outputs": []
    },
    {
      "cell_type": "code",
      "metadata": {
        "id": "PSaMXIjg0f57",
        "outputId": "86b4167f-9148-45fe-d4ca-8df7f33fa145",
        "colab": {
          "base_uri": "https://localhost:8080/",
          "height": 17
        }
      },
      "source": [
        "from google.colab import files\n",
        "files.download('model.h5')"
      ],
      "execution_count": 18,
      "outputs": [
        {
          "output_type": "display_data",
          "data": {
            "application/javascript": [
              "\n",
              "    async function download(id, filename, size) {\n",
              "      if (!google.colab.kernel.accessAllowed) {\n",
              "        return;\n",
              "      }\n",
              "      const div = document.createElement('div');\n",
              "      const label = document.createElement('label');\n",
              "      label.textContent = `Downloading \"${filename}\": `;\n",
              "      div.appendChild(label);\n",
              "      const progress = document.createElement('progress');\n",
              "      progress.max = size;\n",
              "      div.appendChild(progress);\n",
              "      document.body.appendChild(div);\n",
              "\n",
              "      const buffers = [];\n",
              "      let downloaded = 0;\n",
              "\n",
              "      const channel = await google.colab.kernel.comms.open(id);\n",
              "      // Send a message to notify the kernel that we're ready.\n",
              "      channel.send({})\n",
              "\n",
              "      for await (const message of channel.messages) {\n",
              "        // Send a message to notify the kernel that we're ready.\n",
              "        channel.send({})\n",
              "        if (message.buffers) {\n",
              "          for (const buffer of message.buffers) {\n",
              "            buffers.push(buffer);\n",
              "            downloaded += buffer.byteLength;\n",
              "            progress.value = downloaded;\n",
              "          }\n",
              "        }\n",
              "      }\n",
              "      const blob = new Blob(buffers, {type: 'application/binary'});\n",
              "      const a = document.createElement('a');\n",
              "      a.href = window.URL.createObjectURL(blob);\n",
              "      a.download = filename;\n",
              "      div.appendChild(a);\n",
              "      a.click();\n",
              "      div.remove();\n",
              "    }\n",
              "  "
            ],
            "text/plain": [
              "<IPython.core.display.Javascript object>"
            ]
          },
          "metadata": {
            "tags": []
          }
        },
        {
          "output_type": "display_data",
          "data": {
            "application/javascript": [
              "download(\"download_511300cc-9e0f-42ee-b437-0ece568c4a1a\", \"model.h5\", 454408)"
            ],
            "text/plain": [
              "<IPython.core.display.Javascript object>"
            ]
          },
          "metadata": {
            "tags": []
          }
        }
      ]
    }
  ]
}